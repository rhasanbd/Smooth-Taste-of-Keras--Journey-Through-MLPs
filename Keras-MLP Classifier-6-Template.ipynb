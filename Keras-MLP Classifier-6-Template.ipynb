{
 "cells": [
  {
   "cell_type": "markdown",
   "metadata": {},
   "source": [
    "# Dense MLP - Template\n",
    "\n",
    "This notebook provides a **template** for creating a Dense MLP classifier. It illustrates how to use the following techniques/tricks as needed for an experiment.\n",
    "\n",
    "\n",
    "- Batch Normalization\n",
    "- Dropout regularization\n",
    "- Early Stopping\n",
    "- Learning curve\n"
   ]
  },
  {
   "cell_type": "code",
   "execution_count": 1,
   "metadata": {},
   "outputs": [],
   "source": [
    "import numpy as np\n",
    "import matplotlib.pyplot as plt\n",
    "\n",
    "from sklearn.metrics import confusion_matrix, accuracy_score, classification_report\n",
    "\n",
    "import tensorflow as tf\n",
    "from tensorflow import keras"
   ]
  },
  {
   "cell_type": "markdown",
   "metadata": {},
   "source": [
    "## Load The Dataset\n",
    "\n",
    "- Load the MNIST data\n",
    "- Create a separate validation set\n",
    "- Scale the data"
   ]
  },
  {
   "cell_type": "code",
   "execution_count": 2,
   "metadata": {},
   "outputs": [
    {
     "name": "stdout",
     "output_type": "stream",
     "text": [
      "No. of Training Samples:  (55000, 28, 28)\n",
      "No. of Training Labels:  (55000,)\n",
      "\n",
      "No. of Validation Samples:  (5000, 28, 28)\n",
      "No. of Validation Labels:  (5000,)\n",
      "\n",
      "No. of Testing Samples:  (10000, 28, 28)\n",
      "No. of Testing Labels:  (10000,)\n",
      "\n",
      "X type:  float64\n",
      "y type:  uint8\n"
     ]
    }
   ],
   "source": [
    "mnist = keras.datasets.mnist\n",
    "\n",
    "# Load the full training & test data\n",
    "(X_train_full, y_train_full), (X_test, y_test) = mnist.load_data()\n",
    "\n",
    "\n",
    "# Create validation dataset as well as scale the data\n",
    "X_valid, X_train = X_train_full[:5000] / 255.0, X_train_full[5000:] / 255.0\n",
    "y_valid, y_train = y_train_full[:5000], y_train_full[5000:]\n",
    "X_test = X_test / 255.0\n",
    "\n",
    "print(\"No. of Training Samples: \", X_train.shape)\n",
    "print(\"No. of Training Labels: \", y_train.shape)\n",
    "\n",
    "print(\"\\nNo. of Validation Samples: \", X_valid.shape)\n",
    "print(\"No. of Validation Labels: \", y_valid.shape)\n",
    "\n",
    "print(\"\\nNo. of Testing Samples: \", X_test.shape)\n",
    "print(\"No. of Testing Labels: \", y_test.shape)\n",
    "\n",
    "print(\"\\nX type: \", X_train.dtype)\n",
    "print(\"y type: \", y_train.dtype)"
   ]
  },
  {
   "cell_type": "markdown",
   "metadata": {},
   "source": [
    "## Create the Model\n",
    "\n",
    "Couple of things to note.\n",
    "\n",
    "- At first, flatten the input using the Flatten layer. Need to specify the input shape.\n",
    "\n",
    "\n",
    "- Order of adding layers: Dense --> Batch Normalization --> Activation --> Dropout\n",
    "\n",
    "\n",
    "- For each Dense layer, specify (a) number of neurons (units), (b) weight initializer (kernel_initializer), (c) activation function should be set to \"None\".\n",
    "\n",
    "Find a suitable weight initializer (using the kernel_initializer argument) from the following link:\n",
    "https://keras.io/api/layers/initializers/#available-initializers\n",
    "\n",
    "- For the Batch Normalizatio layer, use the default values of the parameters.\n",
    "https://keras.io/api/layers/normalization_layers/batch_normalization/\n",
    "\n",
    "\n",
    "- Find a suitable activation function (using the activation argument) from the following link:\n",
    "https://keras.io/api/layers/activations/#available-activations\n",
    "\n",
    "\n",
    "- If need be, add Dropout layers after the activation. Only set the \"rate\" parameter.\n",
    "https://keras.io/api/layers/regularization_layers/dropout/"
   ]
  },
  {
   "cell_type": "code",
   "execution_count": 3,
   "metadata": {},
   "outputs": [
    {
     "name": "stdout",
     "output_type": "stream",
     "text": [
      "Model: \"DenseClassifier\"\n",
      "_________________________________________________________________\n",
      "Layer (type)                 Output Shape              Param #   \n",
      "=================================================================\n",
      "flatten (Flatten)            (None, 784)               0         \n",
      "_________________________________________________________________\n",
      "dense (Dense)                (None, 300)               235500    \n",
      "_________________________________________________________________\n",
      "batch_normalization (BatchNo (None, 300)               1200      \n",
      "_________________________________________________________________\n",
      "activation (Activation)      (None, 300)               0         \n",
      "_________________________________________________________________\n",
      "dense_1 (Dense)              (None, 100)               30100     \n",
      "_________________________________________________________________\n",
      "batch_normalization_1 (Batch (None, 100)               400       \n",
      "_________________________________________________________________\n",
      "activation_1 (Activation)    (None, 100)               0         \n",
      "_________________________________________________________________\n",
      "dense_2 (Dense)              (None, 10)                1010      \n",
      "=================================================================\n",
      "Total params: 268,210\n",
      "Trainable params: 267,410\n",
      "Non-trainable params: 800\n",
      "_________________________________________________________________\n",
      "CPU times: user 128 ms, sys: 15 ms, total: 143 ms\n",
      "Wall time: 138 ms\n"
     ]
    }
   ],
   "source": [
    "%%time\n",
    "\n",
    "'''\n",
    "Delete the TensorFlow graph before creating a new model, otherwise memory overflow will occur.\n",
    "'''\n",
    "keras.backend.clear_session()\n",
    "\n",
    "'''\n",
    "To reproduce the same result by the model in each iteration, we use fixed seeds for random number generation. \n",
    "'''\n",
    "np.random.seed(42)\n",
    "tf.random.set_seed(42)\n",
    "\n",
    "\n",
    "'''\n",
    "Create a Sequential model composed of a single stack of layers connected sequentially. \n",
    "'''\n",
    "model = keras.models.Sequential(name=\"DenseClassifier\")\n",
    "model.add(keras.layers.Flatten(input_shape=[28, 28]))\n",
    "model.add(keras.layers.Dense(units=300, kernel_initializer=\"he_normal\", activation=None))\n",
    "model.add(keras.layers.BatchNormalization())\n",
    "model.add(keras.layers.Activation(\"relu\")) \n",
    "keras.layers.Dropout(rate=0.1)\n",
    "model.add(keras.layers.Dense(units=100, kernel_initializer=\"he_normal\", activation=None))\n",
    "model.add(keras.layers.BatchNormalization())\n",
    "model.add(keras.layers.Activation(\"relu\"))\n",
    "keras.layers.Dropout(rate=0.1)\n",
    "model.add(keras.layers.Dense(10, activation=\"softmax\"))\n",
    "\n",
    "model.summary()"
   ]
  },
  {
   "cell_type": "markdown",
   "metadata": {},
   "source": [
    "## Train the Model\n",
    "\n",
    "Couple of things to note.\n",
    "\n",
    "For compiling the model, select a suitable:\n",
    "- Loss function: https://keras.io/api/losses/\n",
    "- Optimizer: https://keras.io/api/optimizers/\n",
    "- Performance metrics: https://keras.io/api/metrics/\n",
    "\n",
    "Use the EarlyStopping callback function to implement early stopping. Set the \"monitor\" parameter with either \"val_loss\" or \"val_accuracy\". Another parameter to set is \"patience\".\n",
    "https://keras.io/api/callbacks/early_stopping/\n",
    "\n",
    "To train the model using the \"fit\" method, set the following parameters.\n",
    "- Training data & label\n",
    "- Batch size\n",
    "- Number of epochs\n",
    "- Verbose\n",
    "- Validation data & label\n",
    "- Callback"
   ]
  },
  {
   "cell_type": "code",
   "execution_count": 4,
   "metadata": {},
   "outputs": [
    {
     "name": "stdout",
     "output_type": "stream",
     "text": [
      "Epoch 1/20\n",
      "1719/1719 [==============================] - 4s 2ms/step - loss: 0.2180 - accuracy: 0.9367 - val_loss: 0.1038 - val_accuracy: 0.9690\n",
      "Epoch 2/20\n",
      "1719/1719 [==============================] - 4s 2ms/step - loss: 0.1032 - accuracy: 0.9682 - val_loss: 0.0823 - val_accuracy: 0.9770\n",
      "Epoch 3/20\n",
      "1719/1719 [==============================] - 4s 3ms/step - loss: 0.0720 - accuracy: 0.9777 - val_loss: 0.0795 - val_accuracy: 0.9754\n",
      "Epoch 4/20\n",
      "1719/1719 [==============================] - 4s 3ms/step - loss: 0.0564 - accuracy: 0.9818 - val_loss: 0.0720 - val_accuracy: 0.9800\n",
      "Epoch 5/20\n",
      "1719/1719 [==============================] - 4s 3ms/step - loss: 0.0452 - accuracy: 0.9858 - val_loss: 0.0681 - val_accuracy: 0.9800\n",
      "Epoch 6/20\n",
      "1719/1719 [==============================] - 4s 2ms/step - loss: 0.0392 - accuracy: 0.9870 - val_loss: 0.0732 - val_accuracy: 0.9802\n",
      "Epoch 7/20\n",
      "1719/1719 [==============================] - 5s 3ms/step - loss: 0.0346 - accuracy: 0.9883 - val_loss: 0.0762 - val_accuracy: 0.9804\n",
      "Epoch 8/20\n",
      "1719/1719 [==============================] - 4s 2ms/step - loss: 0.0290 - accuracy: 0.9905 - val_loss: 0.0671 - val_accuracy: 0.9822\n",
      "Epoch 9/20\n",
      "1719/1719 [==============================] - 4s 3ms/step - loss: 0.0282 - accuracy: 0.9907 - val_loss: 0.0736 - val_accuracy: 0.9820\n",
      "Epoch 10/20\n",
      "1719/1719 [==============================] - 4s 2ms/step - loss: 0.0260 - accuracy: 0.9911 - val_loss: 0.0677 - val_accuracy: 0.9796\n",
      "Epoch 11/20\n",
      "1719/1719 [==============================] - 4s 2ms/step - loss: 0.0209 - accuracy: 0.9931 - val_loss: 0.0754 - val_accuracy: 0.9820\n",
      "Epoch 12/20\n",
      "1719/1719 [==============================] - 4s 2ms/step - loss: 0.0212 - accuracy: 0.9933 - val_loss: 0.0742 - val_accuracy: 0.9828\n",
      "Epoch 13/20\n",
      "1719/1719 [==============================] - 4s 2ms/step - loss: 0.0195 - accuracy: 0.9935 - val_loss: 0.0656 - val_accuracy: 0.9834\n",
      "Epoch 14/20\n",
      "1719/1719 [==============================] - 4s 2ms/step - loss: 0.0172 - accuracy: 0.9947 - val_loss: 0.0666 - val_accuracy: 0.9820\n",
      "Epoch 15/20\n",
      "1719/1719 [==============================] - 5s 3ms/step - loss: 0.0182 - accuracy: 0.9938 - val_loss: 0.0641 - val_accuracy: 0.9816\n",
      "Epoch 16/20\n",
      "1719/1719 [==============================] - 4s 2ms/step - loss: 0.0147 - accuracy: 0.9948 - val_loss: 0.0618 - val_accuracy: 0.9842\n",
      "Epoch 17/20\n",
      "1719/1719 [==============================] - 4s 2ms/step - loss: 0.0152 - accuracy: 0.9950 - val_loss: 0.0757 - val_accuracy: 0.9836\n",
      "Epoch 18/20\n",
      "1719/1719 [==============================] - 4s 2ms/step - loss: 0.0167 - accuracy: 0.9945 - val_loss: 0.0799 - val_accuracy: 0.9818\n",
      "Epoch 19/20\n",
      "1719/1719 [==============================] - 4s 3ms/step - loss: 0.0132 - accuracy: 0.9955 - val_loss: 0.0799 - val_accuracy: 0.9816\n",
      "Epoch 20/20\n",
      "1719/1719 [==============================] - 4s 3ms/step - loss: 0.0121 - accuracy: 0.9962 - val_loss: 0.0778 - val_accuracy: 0.9836\n"
     ]
    }
   ],
   "source": [
    "'''\n",
    "Define the optimizer\n",
    "'''\n",
    "optimizer = keras.optimizers.Adam()\n",
    "\n",
    "\n",
    "'''\n",
    "Compile the model\n",
    "'''\n",
    "model.compile(loss=\"sparse_categorical_crossentropy\",\n",
    "              optimizer=optimizer,\n",
    "              metrics=[\"accuracy\"])\n",
    "\n",
    "\n",
    "\n",
    "'''\n",
    "Create early stopping callback.\n",
    "'''\n",
    "early_stopping_cb = keras.callbacks.EarlyStopping(monitor='val_loss',\n",
    "                                  min_delta=0, \n",
    "                                  patience=10, \n",
    "                                  verbose=1, \n",
    "                                  mode='auto',\n",
    "                                  restore_best_weights=True)\n",
    "\n",
    "\n",
    "no_of_epochs = 20\n",
    "size_of_mini_batch = 32\n",
    "\n",
    "history = model.fit(X_train, y_train, \n",
    "                    batch_size=size_of_mini_batch, \n",
    "                    epochs=no_of_epochs,\n",
    "                    verbose=1,\n",
    "                    validation_data=(X_valid, y_valid),\n",
    "                    callbacks=[early_stopping_cb])"
   ]
  },
  {
   "cell_type": "markdown",
   "metadata": {},
   "source": [
    "## Evaluate the Model on Test Data"
   ]
  },
  {
   "cell_type": "code",
   "execution_count": 5,
   "metadata": {},
   "outputs": [
    {
     "name": "stdout",
     "output_type": "stream",
     "text": [
      "Epochs:  20\n",
      "\n",
      "Test Data: Loss & Accuracy:  [0.07369334250688553, 0.9825000166893005]\n",
      "\n",
      "Train Accuracy:  0.999109090909091\n",
      "\n",
      "Test Accuracy:  0.9825\n",
      "\n",
      "Test Confusion Matrix:\n",
      "[[ 970    1    1    0    1    1    3    1    1    1]\n",
      " [   0 1126    2    1    0    0    2    1    3    0]\n",
      " [   2    1 1012    2    4    1    1    3    6    0]\n",
      " [   0    0    5  992    0    3    0    4    3    3]\n",
      " [   0    0    1    0  967    1    3    0    1    9]\n",
      " [   2    0    0    6    1  874    6    1    1    1]\n",
      " [   4    2    0    0    8    1  941    0    1    1]\n",
      " [   0    8    7    1    0    0    0 1012    0    0]\n",
      " [   3    1    1    6    5    1    2    3  948    4]\n",
      " [   1    3    0    2    9    5    0    6    0  983]]\n",
      "\n",
      "Classification Report:\n",
      "              precision    recall  f1-score   support\n",
      "\n",
      "           0       0.99      0.99      0.99       980\n",
      "           1       0.99      0.99      0.99      1135\n",
      "           2       0.98      0.98      0.98      1032\n",
      "           3       0.98      0.98      0.98      1010\n",
      "           4       0.97      0.98      0.98       982\n",
      "           5       0.99      0.98      0.98       892\n",
      "           6       0.98      0.98      0.98       958\n",
      "           7       0.98      0.98      0.98      1028\n",
      "           8       0.98      0.97      0.98       974\n",
      "           9       0.98      0.97      0.98      1009\n",
      "\n",
      "    accuracy                           0.98     10000\n",
      "   macro avg       0.98      0.98      0.98     10000\n",
      "weighted avg       0.98      0.98      0.98     10000\n",
      "\n"
     ]
    }
   ],
   "source": [
    "numOfEpochs = len(history.history['loss'])\n",
    "print(\"Epochs: \", numOfEpochs)\n",
    "\n",
    "print(\"\\nTest Data: Loss & Accuracy: \", model.evaluate(X_test, y_test, verbose=0))\n",
    "\n",
    "# model.predict() method return 10 probabilities per class for each instance (Dimension Nx10)\n",
    "y_test_predicted = model.predict(X_test)\n",
    "y_test_predicted = np.argmax(y_test_predicted, axis=1) # get the label/index of the highest probability class\n",
    "\n",
    "\n",
    "y_train_predicted = model.predict(X_train)\n",
    "y_train_predicted = np.argmax(y_train_predicted, axis=1) # get the label/index of the highest probability class\n",
    "\n",
    "train_accuracy = np.mean(y_train_predicted == y_train)\n",
    "print(\"\\nTrain Accuracy: \", train_accuracy)\n",
    "\n",
    "test_accuracy = np.mean(y_test_predicted == y_test)\n",
    "print(\"\\nTest Accuracy: \", test_accuracy)\n",
    "\n",
    "print(\"\\nTest Confusion Matrix:\")\n",
    "print(confusion_matrix(y_test, y_test_predicted))\n",
    "\n",
    "print(\"\\nClassification Report:\")\n",
    "print(classification_report(y_test, y_test_predicted))"
   ]
  },
  {
   "cell_type": "markdown",
   "metadata": {},
   "source": [
    "## Plot Learning Curves"
   ]
  },
  {
   "cell_type": "code",
   "execution_count": 6,
   "metadata": {},
   "outputs": [
    {
     "data": {
      "image/png": "[encoded data removed]",
      "text/plain": [
       "<Figure size 1296x432 with 2 Axes>"
      ]
     },
     "metadata": {
      "needs_background": "light"
     },
     "output_type": "display_data"
    }
   ],
   "source": [
    "plt.figure(figsize=(18,6))\n",
    "\n",
    "plt.subplot(121)\n",
    "plt.plot(range(1,numOfEpochs+1),history.history['val_accuracy'],label='validation')\n",
    "plt.plot(range(1,numOfEpochs+1),history.history['accuracy'],label='training')\n",
    "plt.legend(loc=0)\n",
    "plt.xlabel('Epochs')\n",
    "plt.ylabel('Accuracy')\n",
    "plt.xlim([1,numOfEpochs])\n",
    "plt.grid(True)\n",
    "plt.title(\"Model Accuracy\")\n",
    "\n",
    "plt.subplot(122)\n",
    "plt.plot(range(1,numOfEpochs+1),history.history['val_loss'],label='validation')\n",
    "plt.plot(range(1,numOfEpochs+1),history.history['loss'],label='training')\n",
    "plt.legend(loc=0)\n",
    "plt.xlabel('Epochs')\n",
    "plt.ylabel('Loss')\n",
    "plt.xlim([1,numOfEpochs])\n",
    "plt.grid(True)\n",
    "plt.title(\"Model Loss\")\n",
    "\n",
    "plt.show() "
   ]
  }
 ],
 "metadata": {
  "kernelspec": {
   "display_name": "Python 3",
   "language": "python",
   "name": "python3"
  },
  "language_info": {
   "codemirror_mode": {
    "name": "ipython",
    "version": 3
   },
   "file_extension": ".py",
   "mimetype": "text/x-python",
   "name": "python",
   "nbconvert_exporter": "python",
   "pygments_lexer": "ipython3",
   "version": "3.7.3"
  }
 },
 "nbformat": 4,
 "nbformat_minor": 2
}
